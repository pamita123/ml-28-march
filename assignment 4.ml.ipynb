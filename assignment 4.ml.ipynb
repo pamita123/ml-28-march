{
 "cells": [
  {
   "cell_type": "code",
   "execution_count": 3,
   "metadata": {},
   "outputs": [
    {
     "name": "stdout",
     "output_type": "stream",
     "text": [
      "Enter the value of the first side = 10\n",
      "Enter the value of the second side = 15\n",
      "Enter the value of the third side = 20\n",
      "72.61843774138907\n"
     ]
    }
   ],
   "source": [
    "#1.1\n",
    "class user_input:\n",
    "    \n",
    "    def __init__(self,a,b,c):\n",
    "        self.a = float(input(\"Enter the value of the first side = \"))\n",
    "        self.b = float(input(\"Enter the value of the second side = \"))\n",
    "        self.c = float(input(\"Enter the value of the third side = \"))\n",
    "        \n",
    "class area_calc(user_input):\n",
    "    \n",
    "    def area(self):\n",
    "        s=(self.a + self.b + self.c)/2\n",
    "        return((s*(s-self.a)*(s-self.b)*(s-self.c))**0.5)\n",
    "    \n",
    "triangle = area_calc(10,15,20)\n",
    "print(triangle.area())"
   ]
  },
  {
   "cell_type": "code",
   "execution_count": 4,
   "metadata": {},
   "outputs": [
    {
     "name": "stdout",
     "output_type": "stream",
     "text": [
      "4\n",
      "my name is pamita singh kandari\n",
      "['pamita', 'singh', 'kandari']\n"
     ]
    }
   ],
   "source": [
    "#1.2\n",
    "def filter_long_words(n, str):  \n",
    "    word_len = []  \n",
    "    txt = str.split(\" \")  \n",
    "    for x in txt:  \n",
    "        if len(x) > n:  \n",
    "            word_len.append(x)  \n",
    "    return word_len   \n",
    "t = int(input())\n",
    "list_of_words = str(input())\n",
    "print(filter_long_words(t, list_of_words))"
   ]
  },
  {
   "cell_type": "code",
   "execution_count": 5,
   "metadata": {},
   "outputs": [
    {
     "name": "stdout",
     "output_type": "stream",
     "text": [
      "Enter the Words: mars,venus,earth\n",
      "Length of Words are: [4, 5, 5]\n"
     ]
    }
   ],
   "source": [
    "#2.1\n",
    "def map_Words_to_Length(List):\n",
    "    return list(map(len, List))\n",
    "\n",
    "word_List=list(input(\"Enter the Words: \").split(\",\"))\n",
    "List = [x.strip() for x in word_List]\n",
    "\n",
    "Words_lengths = map_Words_to_Length(List)\n",
    "\n",
    "print(\"Length of Words are:\",Words_lengths )"
   ]
  },
  {
   "cell_type": "code",
   "execution_count": 6,
   "metadata": {},
   "outputs": [
    {
     "name": "stdout",
     "output_type": "stream",
     "text": [
      "Enter your character: u\n",
      "True\n"
     ]
    }
   ],
   "source": [
    "#2.2\n",
    "def check_vowel(char):\n",
    "    vowels = 'aeiou'\n",
    "    return char in vowels\n",
    "user_input = str(input('Enter your character: '))\n",
    "print(check_vowel(user_input))\n"
   ]
  },
  {
   "cell_type": "code",
   "execution_count": null,
   "metadata": {},
   "outputs": [],
   "source": []
  }
 ],
 "metadata": {
  "kernelspec": {
   "display_name": "Python 3",
   "language": "python",
   "name": "python3"
  },
  "language_info": {
   "codemirror_mode": {
    "name": "ipython",
    "version": 3
   },
   "file_extension": ".py",
   "mimetype": "text/x-python",
   "name": "python",
   "nbconvert_exporter": "python",
   "pygments_lexer": "ipython3",
   "version": "3.7.4"
  }
 },
 "nbformat": 4,
 "nbformat_minor": 2
}
